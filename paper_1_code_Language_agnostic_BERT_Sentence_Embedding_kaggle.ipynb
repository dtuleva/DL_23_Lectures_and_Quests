{
  "nbformat": 4,
  "nbformat_minor": 0,
  "metadata": {
    "colab": {
      "provenance": [],
      "authorship_tag": "ABX9TyO7Es4/m8LnHZbPCl1LEECV",
      "include_colab_link": true
    },
    "kernelspec": {
      "name": "python3",
      "display_name": "Python 3"
    },
    "language_info": {
      "name": "python"
    }
  },
  "cells": [
    {
      "cell_type": "markdown",
      "metadata": {
        "id": "view-in-github",
        "colab_type": "text"
      },
      "source": [
        "<a href=\"https://colab.research.google.com/github/dtuleva/DL_23_Lectures_and_Quests/blob/main/paper_1_code_Language_agnostic_BERT_Sentence_Embedding_kaggle.ipynb\" target=\"_parent\"><img src=\"https://colab.research.google.com/assets/colab-badge.svg\" alt=\"Open In Colab\"/></a>"
      ]
    },
    {
      "cell_type": "code",
      "source": [
        "!pip install -q tensorflow-text"
      ],
      "metadata": {
        "id": "rvq_wcX55iom"
      },
      "execution_count": null,
      "outputs": []
    },
    {
      "cell_type": "code",
      "execution_count": null,
      "metadata": {
        "id": "6FJjbIsf5Scn"
      },
      "outputs": [],
      "source": [
        "import tensorflow_hub as hub\n",
        "import tensorflow as tf\n",
        "import tensorflow_text as text  # Needed for loading universal-sentence-encoder-cmlm/multilingual-preprocess\n",
        "import numpy as np"
      ]
    },
    {
      "cell_type": "markdown",
      "source": [
        "# Language-agnostic BERT Sentence Embedding"
      ],
      "metadata": {
        "id": "lSwr9Oau6Knr"
      }
    },
    {
      "cell_type": "markdown",
      "source": [
        "We publicly release our best\n",
        "multilingual sentence embedding model for\n",
        "109+ languages at https://tfhub.dev/\n",
        "google/LaBSE. (tf hub is now kaggle models)"
      ],
      "metadata": {
        "id": "Xf_qdVZ56Ke-"
      }
    },
    {
      "cell_type": "code",
      "source": [
        "def normalization(embeds):\n",
        "  norms = np.linalg.norm(embeds, 2, axis=1, keepdims=True)\n",
        "  return embeds/norms\n",
        "\n",
        "english_sentences = tf.constant([\"dog\", \"Puppies are nice.\", \"I enjoy taking long walks along the beach with my dog.\"])\n",
        "italian_sentences = tf.constant([\"cane\", \"I cuccioli sono carini.\", \"Mi piace fare lunghe passeggiate lungo la spiaggia con il mio cane.\"])\n",
        "japanese_sentences = tf.constant([\"犬\", \"子犬はいいです\", \"私は犬と一緒にビーチを散歩するのが好きです\"])\n",
        "bulgarian_sentences = tf.constant([\"куче\", \"Кученцата са сладки.\", \"Аз обичам дълги разходки по плажа с моето куче.\"])\n",
        "bulgarian_me_sentences = tf.constant([\"котка\", \"Не обичам кучета\", \"Който измисля изречения с кучета, а не с котки не е човек.\"])\n",
        "\n",
        "preprocessor = hub.KerasLayer(\n",
        "    \"https://kaggle.com/models/google/universal-sentence-encoder/frameworks/TensorFlow2/variations/cmlm-multilingual-preprocess/versions/2\")\n",
        "encoder = hub.KerasLayer(\"https://www.kaggle.com/models/google/labse/frameworks/TensorFlow2/variations/labse/versions/2\")\n",
        "\n",
        "english_embeds = encoder(preprocessor(english_sentences))[\"default\"]\n",
        "japanese_embeds = encoder(preprocessor(japanese_sentences))[\"default\"]\n",
        "italian_embeds = encoder(preprocessor(italian_sentences))[\"default\"]\n",
        "\n",
        "# For semantic similarity tasks, apply l2 normalization to embeddings\n",
        "english_embeds = normalization(english_embeds)\n",
        "japanese_embeds = normalization(japanese_embeds)\n",
        "italian_embeds = normalization(italian_embeds)\n",
        "\n",
        "print (np.matmul(english_embeds, np.transpose(italian_embeds)))\n",
        "\n",
        "# English-Japanese similarity\n",
        "print (np.matmul(english_embeds, np.transpose(japanese_embeds)))\n",
        "\n",
        "# Italian-Japanese similarity\n",
        "print (np.matmul(italian_embeds, np.transpose(japanese_embeds)))\n"
      ],
      "metadata": {
        "colab": {
          "base_uri": "https://localhost:8080/"
        },
        "id": "Go1ni38N5UPV",
        "outputId": "d05172db-d88a-47f7-f7b9-7cddfdfb3933"
      },
      "execution_count": null,
      "outputs": [
        {
          "output_type": "stream",
          "name": "stdout",
          "text": [
            "[[0.63192916 0.3061978  0.44297475]\n",
            " [0.11652706 0.8596665  0.3594056 ]\n",
            " [0.14804004 0.32447967 0.95426506]]\n",
            "[[0.9356719  0.5403067  0.46792293]\n",
            " [0.31804198 0.76222503 0.360859  ]\n",
            " [0.36750716 0.4279154  0.8171454 ]]\n",
            "[[0.5343722  0.25018638 0.19974728]\n",
            " [0.301408   0.7133319  0.40647534]\n",
            " [0.3850307  0.4776789  0.86742985]]\n"
          ]
        }
      ]
    },
    {
      "cell_type": "code",
      "source": [],
      "metadata": {
        "id": "DU3Ku6G551bQ"
      },
      "execution_count": null,
      "outputs": []
    }
  ]
}