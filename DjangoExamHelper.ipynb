{
  "nbformat": 4,
  "nbformat_minor": 0,
  "metadata": {
    "colab": {
      "provenance": [],
      "authorship_tag": "ABX9TyMMtdbvWL6R6k00OGjjls7z",
      "include_colab_link": true
    },
    "kernelspec": {
      "name": "python3",
      "display_name": "Python 3"
    },
    "language_info": {
      "name": "python"
    }
  },
  "cells": [
    {
      "cell_type": "markdown",
      "metadata": {
        "id": "view-in-github",
        "colab_type": "text"
      },
      "source": [
        "<a href=\"https://colab.research.google.com/github/dtuleva/DL_23_Lectures_and_Quests/blob/main/DjangoExamHelper.ipynb\" target=\"_parent\"><img src=\"https://colab.research.google.com/assets/colab-badge.svg\" alt=\"Open In Colab\"/></a>"
      ]
    },
    {
      "cell_type": "code",
      "execution_count": null,
      "metadata": {
        "id": "4J5tyVHAH5Qz"
      },
      "outputs": [],
      "source": []
    },
    {
      "cell_type": "markdown",
      "source": [
        "# Django Exam Helper\n",
        "### April Retake Python Web Basics"
      ],
      "metadata": {
        "id": "RTHohKTpICBk"
      }
    },
    {
      "cell_type": "markdown",
      "source": [
        "## 1. Create Project\n",
        "\n",
        "+ Project name from the resources, snakecase, no project, no app at the end if not specified.\n",
        "+ Win defender sh..\n",
        "+ test `runserver`\n",
        "\n"
      ],
      "metadata": {
        "id": "Pm_Zn6UcIPVx"
      }
    },
    {
      "cell_type": "code",
      "source": [
        "# exam_prep_my_music_app"
      ],
      "metadata": {
        "id": "fm7y0CIkIFdM"
      },
      "execution_count": 1,
      "outputs": []
    },
    {
      "cell_type": "markdown",
      "source": [
        "## 2. Add rescources\n",
        "\n",
        "+ Rename `static` to `staticfiles` and drag-and-drop outside pycharm (no refactoring!)\n",
        "+ add subdirs in `templates`, `core` for index, homepage etc., `base.html` and `404.html` are left out"
      ],
      "metadata": {
        "id": "jWUufcGSKcmq"
      }
    },
    {
      "cell_type": "markdown",
      "source": [
        "## 3. Config in `settings.py`\n",
        "\n",
        "```python\n",
        "# URL for web access:\n",
        "STATIC_URL = \"static/\"\n",
        "\n",
        "# Path in FS\n",
        "STATICFILES_DIRS = (\n",
        "    BASE_DIR / \"staticfiles\",\n",
        ")\n",
        "```"
      ],
      "metadata": {
        "id": "0PLOdaGdLl7R"
      }
    },
    {
      "cell_type": "markdown",
      "source": [
        "Test staticfiles at\n",
        "http://localhost:8000/static/images/image_name.jpg"
      ],
      "metadata": {
        "id": "Xc5i4rtkN5t2"
      }
    },
    {
      "cell_type": "code",
      "source": [
        "# for debug = True\n",
        "# runserver --insecure\n",
        "ALLOWED_HOSTS = [\n",
        "    \"127.0.0.1\",\n",
        "    \"localhost\"\n",
        "]\n",
        "ALLOWED_HOSTS = [\"*\"]"
      ],
      "metadata": {
        "id": "wOGTzHEbNCOh"
      },
      "execution_count": 7,
      "outputs": []
    },
    {
      "cell_type": "code",
      "source": [
        "# # docker run -p 5432:5432 -e POSTGRES_USER=postgres -e POSTGRES_PASSWORD=paswordP@44 -d -v postgres-vol:/var/lib/postgresql/data --name postgre-container postgres:latest\n",
        "\n",
        "# DATABASES = {\n",
        "#     \"default\": {\n",
        "#         \"ENGINE\": \"django.db.backends.postgresql\",\n",
        "#         \"NAME\": \"april_retake_db\",\n",
        "#         \"USER\": \"postgres\",\n",
        "#         \"PASSWORD\": \"paswordP@44\",\n",
        "#         \"HOST\": \"127.0.0.1\",\n",
        "#         \"PORT\": \"5432\",\n",
        "#     }\n",
        "# }"
      ],
      "metadata": {
        "id": "dtQew3v2JIJN"
      },
      "execution_count": null,
      "outputs": []
    },
    {
      "cell_type": "markdown",
      "source": [
        "## 4. Create Web App\n",
        "\n",
        "+ in `manage.py`\n",
        "\n",
        "```bash\n",
        "startapp web\n",
        "```\n",
        "\n",
        "+ in `settings.py`"
      ],
      "metadata": {
        "id": "5ezqS_38OjxB"
      }
    },
    {
      "cell_type": "code",
      "source": [
        "INSTALLED_APPS = [\n",
        "    \"django.contrib.admin\",\n",
        "    \"django.contrib.auth\",\n",
        "    \"django.contrib.contenttypes\",\n",
        "    \"django.contrib.sessions\",\n",
        "    \"django.contrib.messages\",\n",
        "    \"django.contrib.staticfiles\",\n",
        "\n",
        "    # project apps\n",
        "    \"exam_prep_my_music_app.web\",\n",
        "    \"exam_prep_my_music_app.profiles\",\n",
        "    \"exam_prep_my_music_app.albums\",\n",
        "]"
      ],
      "metadata": {
        "id": "b3g5iac7O0OK"
      },
      "execution_count": 9,
      "outputs": []
    },
    {
      "cell_type": "markdown",
      "source": [
        "+ create `urls.py` in each app with following content:"
      ],
      "metadata": {
        "id": "eawa653JQS8Z"
      }
    },
    {
      "cell_type": "code",
      "source": [
        "urlpatterns = ()"
      ],
      "metadata": {
        "id": "jKIo2sNVPiVn"
      },
      "execution_count": 10,
      "outputs": []
    },
    {
      "cell_type": "markdown",
      "source": [
        "+ include app urls in main `urls.py`\n",
        "\n",
        "```python\n",
        "from django.contrib import admin\n",
        "from django.urls import path, include\n",
        "\n",
        "urlpatterns = [\n",
        "    path(\"admin/\", admin.site.urls),\n",
        "\n",
        "    path(\"\", include('exam_prep_my_music_app.web.urls')),\n",
        "    path(\"album/\", include('exam_prep_my_music_app.albums.urls')),\n",
        "    path(\"profile/\", include('exam_prep_my_music_app.profiles.urls')),\n",
        "]\n",
        "```"
      ],
      "metadata": {
        "id": "GrTPikOYRGNR"
      }
    },
    {
      "cell_type": "markdown",
      "source": [
        "## 5. View + url for each template\n",
        "\n",
        "```python\n",
        "from django.urls import path, include\n",
        "\n",
        "from exam_prep_my_music_app.albums.views import CreateAlbumView, DetailAlbumView, EditAlbumView, DeleteAlbumView\n",
        "\n",
        "urlpatterns = (\n",
        "    path(\"add/\", CreateAlbumView.as_view(), name=\"create_album\"),\n",
        "    path(\n",
        "        \"<int:pk>/\",\n",
        "        include([\n",
        "            path(\"details/\", DetailAlbumView.as_view(), name=\"details_album\"),\n",
        "            path(\"edit/\", EditAlbumView.as_view(), name=\"edit_album\"),\n",
        "            path(\"delete/\", DeleteAlbumView.as_view(), name=\"delete_album\"),\n",
        "        ])\n",
        "    )\n",
        ")\n",
        "```\n",
        "\n",
        "```python\n",
        "def login_user(request): # only login is reserved term\n",
        "    return render(request, \"accounts/login-page.html\")\n",
        "```"
      ],
      "metadata": {
        "id": "1II1G1F3RlP7"
      }
    },
    {
      "cell_type": "markdown",
      "source": [
        "+ Test all urls, paste from task description below:\n",
        "\n",
        "\n",
        "\n",
        "\n",
        "\n",
        "(here)"
      ],
      "metadata": {
        "id": "iNUZHqiATpbh"
      }
    },
    {
      "cell_type": "markdown",
      "source": [
        "## 6. Base template\n",
        "\n",
        "```html\n",
        "{% if not hide_nav_items %}\n",
        "    <ul>\n",
        "        <li><a href=\"{% url 'create_album' %}\">Create Album</a></li>\n",
        "        <li><a href=\"{% url 'details_profile' %}\">Profile</a></li>\n",
        "    </ul>\n",
        "{% else %}\n",
        "    <ul></ul>\n",
        "{% endif %}\n",
        "```\n",
        "only in index and other pages available for non-users:\n",
        "```python\n",
        "context = {\n",
        "  \"hide_nav_items\": True\n",
        "}\n",
        "```"
      ],
      "metadata": {
        "id": "RxoH_Z-VUVTC"
      }
    },
    {
      "cell_type": "code",
      "source": [],
      "metadata": {
        "id": "sZh-s6gBUVEh"
      },
      "execution_count": null,
      "outputs": []
    },
    {
      "cell_type": "code",
      "source": [],
      "metadata": {
        "id": "jnyS7evDQ8aG"
      },
      "execution_count": 13,
      "outputs": []
    },
    {
      "cell_type": "code",
      "source": [],
      "metadata": {
        "id": "LAweNOJwRSu8"
      },
      "execution_count": null,
      "outputs": []
    }
  ]
}