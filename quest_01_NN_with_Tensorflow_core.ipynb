{
  "nbformat": 4,
  "nbformat_minor": 0,
  "metadata": {
    "colab": {
      "provenance": [],
      "toc_visible": true,
      "authorship_tag": "ABX9TyN5/XTGW/v3Jt6+79BduamL",
      "include_colab_link": true
    },
    "kernelspec": {
      "name": "python3",
      "display_name": "Python 3"
    },
    "language_info": {
      "name": "python"
    }
  },
  "cells": [
    {
      "cell_type": "markdown",
      "metadata": {
        "id": "view-in-github",
        "colab_type": "text"
      },
      "source": [
        "<a href=\"https://colab.research.google.com/github/dtuleva/DL_23_Lectures_and_Quests/blob/main/quest_01_NN_with_Tensorflow_core.ipynb\" target=\"_parent\"><img src=\"https://colab.research.google.com/assets/colab-badge.svg\" alt=\"Open In Colab\"/></a>"
      ]
    },
    {
      "cell_type": "code",
      "execution_count": null,
      "metadata": {
        "id": "X2M2DgXn5b8b"
      },
      "outputs": [],
      "source": [
        "import tensorflow as tf\n",
        "import pandas as pd\n",
        "import numpy as np\n",
        "import matplotlib.pyplot as plt\n",
        "\n",
        "tf.random.set_seed(42)"
      ]
    },
    {
      "cell_type": "code",
      "source": [
        "# link github and colab"
      ],
      "metadata": {
        "id": "iqHO4x5I1rpx"
      },
      "execution_count": null,
      "outputs": []
    },
    {
      "cell_type": "markdown",
      "source": [
        "# Side Quest - NN with low level Tensorflow API\n",
        "## part 3\n",
        "### 01.Introduction-to-Deep-Learning-Basic-Models"
      ],
      "metadata": {
        "id": "Rj8xwDEg52Or"
      }
    },
    {
      "cell_type": "code",
      "source": [],
      "metadata": {
        "id": "DBgreYiHE8cw"
      },
      "execution_count": null,
      "outputs": []
    },
    {
      "cell_type": "markdown",
      "source": [
        "## Multilayer Preceptron\n",
        "\n",
        "Based on [MLP](https://www.tensorflow.org/guide/core/mlp_core); removed `tf.Model`, use pandas / numpy input instead of `tf.dataset`"
      ],
      "metadata": {
        "id": "gxZgaJz76DZN"
      }
    },
    {
      "cell_type": "code",
      "source": [
        "class Normalize:\n",
        "  def __init__(self, x):\n",
        "    # Initialize the mean and standard deviation for normalization\n",
        "    self.mean = tf.math.reduce_mean(x, axis=0)\n",
        "    self.std = tf.math.reduce_std(x, axis=0)\n",
        "\n",
        "  def norm(self, x):\n",
        "    # Normalize the input\n",
        "    return (x - self.mean)/self.std\n",
        "\n",
        "  def unnorm(self, x):\n",
        "    # Unnormalize the input\n",
        "    return (x * self.std) + self.mean"
      ],
      "metadata": {
        "id": "Dn_i7p4vJ4B-"
      },
      "execution_count": null,
      "outputs": []
    },
    {
      "cell_type": "code",
      "source": [
        "def xavier_init(shape): # same as tf.keras.initializers.GlorotUniform\n",
        "  # Computes the xavier initialization values for a weight matrix\n",
        "  in_dim, out_dim = shape\n",
        "  xavier_lim = tf.sqrt(6.)/tf.sqrt(tf.cast(in_dim + out_dim, tf.float32))\n",
        "  weight_vals = tf.random.uniform(shape=(in_dim, out_dim),\n",
        "                                  minval=-xavier_lim, maxval=xavier_lim, seed=42)\n",
        "  return weight_vals"
      ],
      "metadata": {
        "id": "Kt938XqO6C_d"
      },
      "execution_count": null,
      "outputs": []
    },
    {
      "cell_type": "code",
      "source": [
        "class DenseLayer:\n",
        "\n",
        "  def __init__(self, out_dim, weight_init=xavier_init, activation=tf.identity):\n",
        "    # Initialize the dimensions and activation functions\n",
        "    self.out_dim = out_dim\n",
        "    self.weight_init = weight_init\n",
        "    self.activation = activation\n",
        "    self.built = False\n",
        "\n",
        "  def __call__(self, x):\n",
        "    if not self.built:\n",
        "      # Infer the input dimension based on first call\n",
        "      self.in_dim = x.shape[1]\n",
        "      # Initialize the weights and biases\n",
        "      self.w = tf.Variable(self.weight_init(shape=(self.in_dim, self.out_dim)))\n",
        "      self.b = tf.Variable(tf.zeros(shape=(self.out_dim,)))\n",
        "      self.built = True\n",
        "    # Compute the forward pass\n",
        "    z = tf.add(tf.matmul(x, self.w), self.b)\n",
        "    return self.activation(z)\n",
        "\n",
        "  @property\n",
        "  def variables(self):  # instead of tf.Module\n",
        "    # Weights and biases\n",
        "    return self.w, self.b"
      ],
      "metadata": {
        "id": "b5WdTxsz50Jn"
      },
      "execution_count": null,
      "outputs": []
    },
    {
      "cell_type": "code",
      "source": [
        "class MLP:\n",
        "  #  class for Multilayer Perceptron - model that executes layers sequentially\n",
        "  def __init__(self, layers):\n",
        "    self.layers = layers\n",
        "    self.built = False\n",
        "\n",
        "  @tf.function\n",
        "  def __call__(self, x):\n",
        "    # Execute the model's layers sequentially\n",
        "    for layer in self.layers:\n",
        "      x = layer(x)\n",
        "    return x\n",
        "\n",
        "  @property\n",
        "  def variables(self):\n",
        "    # Flattened list of the weights and biases of all layers\n",
        "    return [variable for layer in self.layers for variable in layer.variables]\n",
        "\n",
        "\n",
        "  @property\n",
        "  def history(self):\n",
        "    model_history = {\n",
        "        \"train_loss\": self.train_losses,\n",
        "        \"train_metric\": self.train_metrics,\n",
        "        \"val_loss\": self.val_losses,\n",
        "        \"val_metric\": self.val_metrics\n",
        "    }\n",
        "    return model_history\n",
        "\n",
        "  def compile(self, loss, metric, optimizer = tf.identity):\n",
        "      self.loss = loss\n",
        "      self.metric = metric\n",
        "      self.optimizer = optimizer\n",
        "\n",
        "      # Initialize loss and metric history\n",
        "      self.train_losses = []\n",
        "      self.train_metrics = []\n",
        "      self.val_losses = []\n",
        "      self.val_metrics = []\n",
        "\n",
        "      # Update build status\n",
        "      self.built = True\n",
        "\n",
        "\n",
        "  def train_step(self, x_batch, y_batch):\n",
        "    # Update the model state given a batch of data\n",
        "    with tf.GradientTape() as tape:\n",
        "      y_pred = self(x_batch)\n",
        "      batch_loss = self.loss(y_pred, y_batch)\n",
        "    batch_metric = self.metric(y_pred, y_batch)\n",
        "    grads = tape.gradient(batch_loss, self.variables)\n",
        "    self.optimizer.apply_gradients(grads, self.variables)\n",
        "    return batch_loss, batch_metric\n",
        "\n",
        "\n",
        "  def val_step(self, x_batch, y_batch):\n",
        "    # Evaluate the model on given a batch of validation data\n",
        "    y_pred = self(x_batch)\n",
        "    batch_loss = self.loss(y_pred, y_batch)\n",
        "    batch_metric = self.metric(y_pred, y_batch)\n",
        "    return batch_loss, batch_metric\n",
        "\n",
        "\n",
        "  @staticmethod\n",
        "  def batch_generator(data, batch_size = -1):\n",
        "    # Generates (attributes, target) tuple\n",
        "    # batch_size is number of samples in batch\n",
        "    # last batch can contain fewer samples\n",
        "\n",
        "    if batch_size == -1: # batch = whole dataset = epoch\n",
        "      yield data\n",
        "      return\n",
        "\n",
        "    start_idx = 0\n",
        "    end_idx = batch_size\n",
        "    len_data = data[0].shape[0]\n",
        "\n",
        "    while end_idx < len_data:\n",
        "      x_batch = data[0][start_idx : end_idx]\n",
        "      y_batch = data[1][start_idx : end_idx]\n",
        "\n",
        "      yield x_batch, y_batch\n",
        "\n",
        "      start_idx += batch_size\n",
        "      end_idx += batch_size\n",
        "\n",
        "\n",
        "  def fit(self, train_data, val_data, epochs = 1, batch_train_size = -1, batch_val_size = -1):\n",
        "    if not self.built:\n",
        "      raise Exception(\"You must compile your model before training/testing. Use `compile(loss, metric)`.\")\n",
        "\n",
        "    # Format training loop and begin training\n",
        "    for epoch in range(epochs):\n",
        "      batch_losses_train, batch_metrics_train = [], []\n",
        "      batch_losses_val, batch_metrics_val = [], []\n",
        "\n",
        "      # Iterate over the training data\n",
        "      for x_batch, y_batch in self.batch_generator(train_data, batch_train_size):\n",
        "\n",
        "        # Compute gradients and update the model's parameters\n",
        "        batch_loss, batch_metric = self.train_step(x_batch, y_batch)\n",
        "        # Keep track of batch-level training performance\n",
        "        batch_losses_train.append(batch_loss)\n",
        "        batch_metrics_train.append(batch_metric)\n",
        "\n",
        "      # Iterate over the validation data\n",
        "      for x_batch, y_batch in self.batch_generator(val_data, batch_val_size):\n",
        "        batch_loss, batch_metric = self.val_step(x_batch, y_batch)\n",
        "        batch_losses_val.append(batch_loss)\n",
        "        batch_metrics_val.append(batch_metric)\n",
        "\n",
        "      # Keep track of epoch-level model performance\n",
        "      train_loss, train_metric = tf.reduce_mean(batch_losses_train), tf.reduce_mean(batch_metrics_train)\n",
        "      val_loss, val_metric = tf.reduce_mean(batch_losses_val), tf.reduce_mean(batch_metrics_val)\n",
        "      self.train_losses.append(train_loss)\n",
        "      self.train_metrics.append(train_metric)\n",
        "      self.val_losses.append(val_loss)\n",
        "      self.val_metrics.append(val_metric)\n",
        "      print(f\"Epoch: {epoch}\")\n",
        "      print(f\"Training loss: {train_loss:.3f}, Training metric: {train_metric:.3f}\")\n",
        "      print(f\"Validation loss: {val_loss:.3f}, Validation metric: {val_metric:.3f}\")\n",
        "\n",
        "    return self.history\n",
        "\n",
        "\n"
      ],
      "metadata": {
        "id": "uMcdl4m06NWQ"
      },
      "execution_count": null,
      "outputs": []
    },
    {
      "cell_type": "code",
      "source": [
        "@tf.function\n",
        "def mse_loss_tf(y_pred, y): # _tf for all functions and classes defined in this notebook, to differentiate them from built-in tf functions\n",
        "  return tf.reduce_mean(tf.square(y_pred - y))"
      ],
      "metadata": {
        "id": "zjWod2En-U7X"
      },
      "execution_count": null,
      "outputs": []
    },
    {
      "cell_type": "code",
      "source": [
        "@tf.function\n",
        "def relu_activation_tf(x):\n",
        "  return tf.maximum(x, 0)"
      ],
      "metadata": {
        "id": "OZR1KN9y8rpH"
      },
      "execution_count": null,
      "outputs": []
    },
    {
      "cell_type": "code",
      "source": [
        "tf.sigmoid # activation"
      ],
      "metadata": {
        "colab": {
          "base_uri": "https://localhost:8080/"
        },
        "id": "codFwZ7l-RhR",
        "outputId": "072fb993-f99a-4cd7-cb97-ae87d222f9b0"
      },
      "execution_count": null,
      "outputs": [
        {
          "output_type": "execute_result",
          "data": {
            "text/plain": [
              "<function tensorflow.python.ops.math_ops.sigmoid(x, name=None)>"
            ]
          },
          "metadata": {},
          "execution_count": 8
        }
      ]
    },
    {
      "cell_type": "code",
      "source": [
        "class SGD_tf:\n",
        "  def __init__(self, learning_rate):\n",
        "    self.learning_rate = learning_rate\n",
        "\n",
        "  def apply_gradients(self, grads, model_variables):\n",
        "    for g,v in zip(grads, model_variables):\n",
        "      v.assign_sub(self.learning_rate * g)"
      ],
      "metadata": {
        "id": "rBTGAjaS-iN_"
      },
      "execution_count": null,
      "outputs": []
    },
    {
      "cell_type": "code",
      "source": [],
      "metadata": {
        "id": "sYI7EbbK-yP3"
      },
      "execution_count": null,
      "outputs": []
    },
    {
      "cell_type": "code",
      "source": [],
      "metadata": {
        "id": "ii6aXEjbX2Sb"
      },
      "execution_count": null,
      "outputs": []
    },
    {
      "cell_type": "code",
      "source": [],
      "metadata": {
        "id": "eP4VDfOp_Chf"
      },
      "execution_count": null,
      "outputs": []
    },
    {
      "cell_type": "code",
      "source": [],
      "metadata": {
        "id": "Mkjg1x6j_ITH"
      },
      "execution_count": null,
      "outputs": []
    },
    {
      "cell_type": "markdown",
      "source": [
        "### Regression"
      ],
      "metadata": {
        "id": "L4hw5eo2_Qsq"
      }
    },
    {
      "cell_type": "code",
      "source": [
        "housing_data_train = pd.read_csv(\"sample_data/california_housing_train.csv\")\n",
        "housing_data_test = pd.read_csv(\"sample_data/california_housing_test.csv\")"
      ],
      "metadata": {
        "id": "JYjUfZaM_Oik"
      },
      "execution_count": null,
      "outputs": []
    },
    {
      "cell_type": "code",
      "source": [
        "target_idx = housing_data_train.columns.get_loc(\"median_house_value\")"
      ],
      "metadata": {
        "id": "IvWtQtURGVox"
      },
      "execution_count": null,
      "outputs": []
    },
    {
      "cell_type": "code",
      "source": [
        "housing_data_train_tf = tf.convert_to_tensor(housing_data_train, dtype=tf.float32)\n",
        "housing_data_test_tf = tf.convert_to_tensor(housing_data_test, dtype=tf.float32)\n",
        "\n",
        "housing_data_train_tf.shape, housing_data_test_tf.shape"
      ],
      "metadata": {
        "colab": {
          "base_uri": "https://localhost:8080/"
        },
        "id": "bz0BvDqhFilm",
        "outputId": "3c7efd2d-16e9-47a0-bb1c-1b7ecca2f0e5"
      },
      "execution_count": null,
      "outputs": [
        {
          "output_type": "execute_result",
          "data": {
            "text/plain": [
              "(TensorShape([17000, 9]), TensorShape([3000, 9]))"
            ]
          },
          "metadata": {},
          "execution_count": 12
        }
      ]
    },
    {
      "cell_type": "code",
      "source": [
        "dataset_shuffled = tf.random.shuffle(housing_data_train_tf, seed = 42)\n",
        "\n",
        "validation_set_size = 5000\n",
        "\n",
        "train_data, val_data = dataset_shuffled[validation_set_size:], dataset_shuffled[:validation_set_size]\n",
        "attributes_train, target_train = train_data[:, 0:target_idx], train_data[:, target_idx]\n",
        "attributes_val, target_val = val_data[:, 0:target_idx], val_data[:, target_idx]\n",
        "\n",
        "attributes_test, target_test = housing_data_test_tf[:, 0:target_idx], housing_data_test_tf[:, target_idx]\n",
        "\n",
        "(\n",
        "    attributes_train.shape, target_train.shape,\n",
        "    attributes_val.shape, target_val.shape,\n",
        "    attributes_test.shape, target_test.shape\n",
        "  )"
      ],
      "metadata": {
        "colab": {
          "base_uri": "https://localhost:8080/"
        },
        "id": "Pe0oWIwuHlDQ",
        "outputId": "6b8417c6-233b-4f0e-a22f-c919871d7a4d"
      },
      "execution_count": null,
      "outputs": [
        {
          "output_type": "execute_result",
          "data": {
            "text/plain": [
              "(TensorShape([12000, 8]),\n",
              " TensorShape([12000]),\n",
              " TensorShape([5000, 8]),\n",
              " TensorShape([5000]),\n",
              " TensorShape([3000, 8]),\n",
              " TensorShape([3000]))"
            ]
          },
          "metadata": {},
          "execution_count": 13
        }
      ]
    },
    {
      "cell_type": "code",
      "source": [
        "scaler = Normalize(attributes_train)\n",
        "# scaler.mean, scaler.std"
      ],
      "metadata": {
        "id": "Z0r3zTSq_36w"
      },
      "execution_count": null,
      "outputs": []
    },
    {
      "cell_type": "code",
      "source": [
        "attributes_train = scaler.norm(attributes_train)\n",
        "attributes_val = scaler.norm(attributes_val)\n",
        "attributes_test = scaler.norm(attributes_test)"
      ],
      "metadata": {
        "id": "SbrypwWDA8TU"
      },
      "execution_count": null,
      "outputs": []
    },
    {
      "cell_type": "code",
      "source": [
        "# scaler.mean, scaler.std"
      ],
      "metadata": {
        "id": "zQY9KpjYBC_3"
      },
      "execution_count": null,
      "outputs": []
    },
    {
      "cell_type": "code",
      "source": [
        "scaler_target = Normalize(target_train)"
      ],
      "metadata": {
        "id": "kMmKqi9Y-dZF"
      },
      "execution_count": null,
      "outputs": []
    },
    {
      "cell_type": "code",
      "source": [
        "target_train = scaler_target.norm(target_train)\n",
        "target_val = scaler_target.norm(target_val)\n",
        "target_test = scaler_target.norm(target_test)"
      ],
      "metadata": {
        "id": "aBDqPF8J-jOO"
      },
      "execution_count": null,
      "outputs": []
    },
    {
      "cell_type": "code",
      "source": [
        "plt.hist(target_train.numpy())\n",
        "plt.show()"
      ],
      "metadata": {
        "colab": {
          "base_uri": "https://localhost:8080/",
          "height": 430
        },
        "id": "2F5RC38W9Z9I",
        "outputId": "41ed2e25-7285-439a-e553-985efea5c6b7"
      },
      "execution_count": null,
      "outputs": [
        {
          "output_type": "display_data",
          "data": {
            "text/plain": [
              "<Figure size 640x480 with 1 Axes>"
            ],
            "image/png": "[encoded data removed]"
          },
          "metadata": {}
        }
      ]
    },
    {
      "cell_type": "code",
      "source": [],
      "metadata": {
        "id": "b8BMMwXLACgP"
      },
      "execution_count": null,
      "outputs": []
    },
    {
      "cell_type": "code",
      "source": [
        "num_columns = attributes_train.shape[1]\n",
        "num_outputs = 1 # Regression\n",
        "\n",
        "num_columns"
      ],
      "metadata": {
        "colab": {
          "base_uri": "https://localhost:8080/"
        },
        "id": "saLKt_1rAT4k",
        "outputId": "bd2fb2b7-aa35-479b-d6fd-c6b74101efb6"
      },
      "execution_count": null,
      "outputs": [
        {
          "output_type": "execute_result",
          "data": {
            "text/plain": [
              "8"
            ]
          },
          "metadata": {},
          "execution_count": 20
        }
      ]
    },
    {
      "cell_type": "code",
      "source": [
        "regression_model = MLP([\n",
        "    DenseLayer(4, activation = tf.sigmoid),\n",
        "    DenseLayer(3, activation = relu_activation_tf),\n",
        "    DenseLayer(2, activation = relu_activation_tf),\n",
        "    DenseLayer(num_outputs)\n",
        "])"
      ],
      "metadata": {
        "id": "UXRJp0y0BeuQ"
      },
      "execution_count": null,
      "outputs": []
    },
    {
      "cell_type": "code",
      "source": [
        "sgd = SGD_tf(learning_rate = 0.01)"
      ],
      "metadata": {
        "id": "o3o_MB-5Ck6Y"
      },
      "execution_count": null,
      "outputs": []
    },
    {
      "cell_type": "code",
      "source": [
        "regression_model.compile(mse_loss_tf, mse_loss_tf, optimizer = sgd)"
      ],
      "metadata": {
        "id": "mes_QcnijjtF"
      },
      "execution_count": null,
      "outputs": []
    },
    {
      "cell_type": "code",
      "source": [
        "train_data = attributes_train, target_train\n",
        "val_data = attributes_val, target_val"
      ],
      "metadata": {
        "id": "0Hf-ke7MDgGC"
      },
      "execution_count": null,
      "outputs": []
    },
    {
      "cell_type": "code",
      "source": [
        "regression_model.fit(\n",
        "    # First call or fit initialises the model\n",
        "    train_data,\n",
        "    val_data,\n",
        "    epochs = 1,\n",
        "    batch_train_size = -1,\n",
        "    batch_val_size = -1\n",
        ")"
      ],
      "metadata": {
        "colab": {
          "base_uri": "https://localhost:8080/"
        },
        "id": "AYCjCRTlq94S",
        "outputId": "319bf8bd-2b37-4e9d-d20a-da64c3911f1a"
      },
      "execution_count": null,
      "outputs": [
        {
          "output_type": "stream",
          "name": "stdout",
          "text": [
            "Epoch: 0\n",
            "Training loss: 1.257, Training metric: 1.257\n",
            "Validation loss: 1.224, Validation metric: 1.224\n"
          ]
        },
        {
          "output_type": "execute_result",
          "data": {
            "text/plain": [
              "{'train_loss': [<tf.Tensor: shape=(), dtype=float32, numpy=1.2571446>],\n",
              " 'train_metric': [<tf.Tensor: shape=(), dtype=float32, numpy=1.2571446>],\n",
              " 'val_loss': [<tf.Tensor: shape=(), dtype=float32, numpy=1.2241609>],\n",
              " 'val_metric': [<tf.Tensor: shape=(), dtype=float32, numpy=1.2241609>]}"
            ]
          },
          "metadata": {},
          "execution_count": 25
        }
      ]
    },
    {
      "cell_type": "code",
      "source": [
        "params_init = [tf.identity(variable) for variable in regression_model.variables]\n",
        "predictions_init = regression_model(attributes_test)\n",
        "# params_init"
      ],
      "metadata": {
        "id": "HPY94jfErWxV"
      },
      "execution_count": null,
      "outputs": []
    },
    {
      "cell_type": "code",
      "source": [
        "history = regression_model.fit(\n",
        "    train_data,\n",
        "    val_data,\n",
        "    epochs = 20,\n",
        "    batch_train_size = 5000,\n",
        "    batch_val_size = -1\n",
        ")"
      ],
      "metadata": {
        "colab": {
          "base_uri": "https://localhost:8080/"
        },
        "id": "Dj5YqTYEC1x_",
        "outputId": "355e8396-281d-4f6b-b9fb-03151d0c69b3"
      },
      "execution_count": null,
      "outputs": [
        {
          "output_type": "stream",
          "name": "stdout",
          "text": [
            "Epoch: 0\n",
            "Training loss: 1.207, Training metric: 1.207\n",
            "Validation loss: 1.170, Validation metric: 1.170\n",
            "Epoch: 1\n",
            "Training loss: 1.157, Training metric: 1.157\n",
            "Validation loss: 1.131, Validation metric: 1.131\n",
            "Epoch: 2\n",
            "Training loss: 1.121, Training metric: 1.121\n",
            "Validation loss: 1.103, Validation metric: 1.103\n",
            "Epoch: 3\n",
            "Training loss: 1.096, Training metric: 1.096\n",
            "Validation loss: 1.083, Validation metric: 1.083\n",
            "Epoch: 4\n",
            "Training loss: 1.076, Training metric: 1.076\n",
            "Validation loss: 1.067, Validation metric: 1.067\n",
            "Epoch: 5\n",
            "Training loss: 1.062, Training metric: 1.062\n",
            "Validation loss: 1.055, Validation metric: 1.055\n",
            "Epoch: 6\n",
            "Training loss: 1.051, Training metric: 1.051\n",
            "Validation loss: 1.046, Validation metric: 1.046\n",
            "Epoch: 7\n",
            "Training loss: 1.043, Training metric: 1.043\n",
            "Validation loss: 1.039, Validation metric: 1.039\n",
            "Epoch: 8\n",
            "Training loss: 1.036, Training metric: 1.036\n",
            "Validation loss: 1.034, Validation metric: 1.034\n",
            "Epoch: 9\n",
            "Training loss: 1.031, Training metric: 1.031\n",
            "Validation loss: 1.029, Validation metric: 1.029\n",
            "Epoch: 10\n",
            "Training loss: 1.027, Training metric: 1.027\n",
            "Validation loss: 1.026, Validation metric: 1.026\n",
            "Epoch: 11\n",
            "Training loss: 1.024, Training metric: 1.024\n",
            "Validation loss: 1.023, Validation metric: 1.023\n",
            "Epoch: 12\n",
            "Training loss: 1.021, Training metric: 1.021\n",
            "Validation loss: 1.021, Validation metric: 1.021\n",
            "Epoch: 13\n",
            "Training loss: 1.019, Training metric: 1.019\n",
            "Validation loss: 1.019, Validation metric: 1.019\n",
            "Epoch: 14\n",
            "Training loss: 1.017, Training metric: 1.017\n",
            "Validation loss: 1.018, Validation metric: 1.018\n",
            "Epoch: 15\n",
            "Training loss: 1.016, Training metric: 1.016\n",
            "Validation loss: 1.016, Validation metric: 1.016\n",
            "Epoch: 16\n",
            "Training loss: 1.015, Training metric: 1.015\n",
            "Validation loss: 1.015, Validation metric: 1.015\n",
            "Epoch: 17\n",
            "Training loss: 1.014, Training metric: 1.014\n",
            "Validation loss: 1.014, Validation metric: 1.014\n",
            "Epoch: 18\n",
            "Training loss: 1.013, Training metric: 1.013\n",
            "Validation loss: 1.014, Validation metric: 1.014\n",
            "Epoch: 19\n",
            "Training loss: 1.012, Training metric: 1.012\n",
            "Validation loss: 1.013, Validation metric: 1.013\n"
          ]
        }
      ]
    },
    {
      "cell_type": "code",
      "source": [
        "# history"
      ],
      "metadata": {
        "id": "89iL_dcDlSQt"
      },
      "execution_count": null,
      "outputs": []
    },
    {
      "cell_type": "code",
      "source": [
        "plt.plot(history[\"train_loss\"])\n",
        "plt.plot(history[\"val_loss\"])\n",
        "\n",
        "# plt.semilogy()\n",
        "plt.show()"
      ],
      "metadata": {
        "colab": {
          "base_uri": "https://localhost:8080/",
          "height": 430
        },
        "id": "LRQFRKXLD5c_",
        "outputId": "25f673ad-b331-4cb0-f4cd-bf86a4f2fc63"
      },
      "execution_count": null,
      "outputs": [
        {
          "output_type": "display_data",
          "data": {
            "text/plain": [
              "<Figure size 640x480 with 1 Axes>"
            ],
            "image/png": "[encoded data removed]"
          },
          "metadata": {}
        }
      ]
    },
    {
      "cell_type": "code",
      "source": [
        "predictions_test = regression_model(attributes_test)\n",
        "\n",
        "mse_loss_tf(predictions_test, target_test)\n"
      ],
      "metadata": {
        "colab": {
          "base_uri": "https://localhost:8080/"
        },
        "id": "zhPlwBWuMZki",
        "outputId": "5e3db42f-82ca-4df8-d629-6ef20795961f"
      },
      "execution_count": null,
      "outputs": [
        {
          "output_type": "execute_result",
          "data": {
            "text/plain": [
              "<tf.Tensor: shape=(), dtype=float32, numpy=0.96413213>"
            ]
          },
          "metadata": {},
          "execution_count": 30
        }
      ]
    },
    {
      "cell_type": "code",
      "source": [
        "params_trained = regression_model.variables\n",
        "# params_trained"
      ],
      "metadata": {
        "id": "K6VOj5tMTpic"
      },
      "execution_count": null,
      "outputs": []
    },
    {
      "cell_type": "code",
      "source": [
        "# Compare weights and biases before and after training\n",
        "# True means equal, false means different\n",
        "for variable_init, variable_trained in zip(params_init, params_trained):\n",
        "  print(tf.math.reduce_all(tf.equal(variable_init, variable_trained)).numpy())"
      ],
      "metadata": {
        "colab": {
          "base_uri": "https://localhost:8080/"
        },
        "id": "FNVNimUBXaGk",
        "outputId": "f473dafa-1277-44c3-dbc6-4e9c72bc1b33"
      },
      "execution_count": null,
      "outputs": [
        {
          "output_type": "stream",
          "name": "stdout",
          "text": [
            "False\n",
            "False\n",
            "False\n",
            "False\n",
            "False\n",
            "False\n",
            "False\n",
            "False\n"
          ]
        }
      ]
    },
    {
      "cell_type": "code",
      "source": [
        "for variable_init, variable_trained in zip(params_init, params_trained):\n",
        "  print((variable_init, variable_trained))"
      ],
      "metadata": {
        "colab": {
          "base_uri": "https://localhost:8080/"
        },
        "id": "39zHJfXT5t0g",
        "outputId": "169d44fa-2f9d-4300-eede-3ff055a34a6b"
      },
      "execution_count": null,
      "outputs": [
        {
          "output_type": "stream",
          "name": "stdout",
          "text": [
            "(<tf.Tensor: shape=(8, 4), dtype=float32, numpy=\n",
            "array([[-0.11837932, -0.32706773, -0.0286511 , -0.19144665],\n",
            "       [ 0.6430731 ,  0.6247042 ,  0.16230913, -0.20030929],\n",
            "       [ 0.13237119, -0.40231365, -0.597568  ,  0.11203878],\n",
            "       [-0.29443976, -0.32911637, -0.18362671,  0.3056631 ],\n",
            "       [-0.05830197, -0.54061997, -0.40903762,  0.06254921],\n",
            "       [ 0.6926866 , -0.16400144, -0.64082474,  0.5259184 ],\n",
            "       [-0.34108877,  0.52779794,  0.20790955, -0.11335713],\n",
            "       [-0.3656106 , -0.57189345,  0.68183404, -0.4849986 ]],\n",
            "      dtype=float32)>, <tf.Variable 'Variable:0' shape=(8, 4) dtype=float32, numpy=\n",
            "array([[-0.11921067, -0.32092872, -0.02702861, -0.18990439],\n",
            "       [ 0.6439586 ,  0.6185679 ,  0.1605063 , -0.20201905],\n",
            "       [ 0.13208956, -0.40109128, -0.5972651 ,  0.11244056],\n",
            "       [-0.2947266 , -0.32673606, -0.18300593,  0.3063037 ],\n",
            "       [-0.05856249, -0.5385452 , -0.40847924,  0.06314047],\n",
            "       [ 0.69238853, -0.16179194, -0.64019054,  0.52657557],\n",
            "       [-0.34135193,  0.5298352 ,  0.2084775 , -0.11275444],\n",
            "       [-0.36601073, -0.5689286 ,  0.6828654 , -0.48415816]],\n",
            "      dtype=float32)>)\n",
            "(<tf.Tensor: shape=(4,), dtype=float32, numpy=\n",
            "array([ 6.3244202e-05, -1.2772806e-03, -2.9470646e-04, -2.8311939e-04],\n",
            "      dtype=float32)>, <tf.Variable 'Variable:0' shape=(4,) dtype=float32, numpy=array([ 0.00147942, -0.01553264, -0.00327575, -0.00308164], dtype=float32)>)\n",
            "(<tf.Tensor: shape=(4, 3), dtype=float32, numpy=\n",
            "array([[-0.1549704 , -0.42849645, -0.04225092],\n",
            "       [-0.25075907,  0.8419722 ,  0.8133174 ],\n",
            "       [ 0.21266599, -0.2621416 ,  0.16899417],\n",
            "       [-0.52676606, -0.78240454,  0.14260864]], dtype=float32)>, <tf.Variable 'Variable:0' shape=(4, 3) dtype=float32, numpy=\n",
            "array([[-0.15495342, -0.4283655 , -0.10425622],\n",
            "       [-0.25073668,  0.8421577 ,  0.7454983 ],\n",
            "       [ 0.2127336 , -0.26194304,  0.11482751],\n",
            "       [-0.5267583 , -0.78235024,  0.094449  ]], dtype=float32)>)\n",
            "(<tf.Tensor: shape=(3,), dtype=float32, numpy=array([ 3.75710806e-05,  1.20722825e-05, -8.28364771e-03], dtype=float32)>, <tf.Variable 'Variable:0' shape=(3,) dtype=float32, numpy=array([ 1.0749242e-04,  2.3059017e-04, -1.0754581e-01], dtype=float32)>)\n",
            "(<tf.Tensor: shape=(3, 2), dtype=float32, numpy=\n",
            "array([[-0.18337266, -0.5070158 ],\n",
            "       [-0.04451228, -0.29671037],\n",
            "       [ 0.9948221 ,  0.9642036 ]], dtype=float32)>, <tf.Variable 'Variable:0' shape=(3, 2) dtype=float32, numpy=\n",
            "array([[-0.18336645, -0.50702214],\n",
            "       [-0.04451803, -0.29672882],\n",
            "       [ 0.98054004,  0.9193358 ]], dtype=float32)>)\n",
            "(<tf.Tensor: shape=(2,), dtype=float32, numpy=array([-0.00225534, -0.0062359 ], dtype=float32)>, <tf.Variable 'Variable:0' shape=(2,) dtype=float32, numpy=array([-0.02716277, -0.08543734], dtype=float32)>)\n",
            "(<tf.Tensor: shape=(2, 1), dtype=float32, numpy=\n",
            "array([[-0.2308373 ],\n",
            "       [-0.64882463]], dtype=float32)>, <tf.Variable 'Variable:0' shape=(2, 1) dtype=float32, numpy=\n",
            "array([[-0.16110086],\n",
            "       [-0.58615947]], dtype=float32)>)\n",
            "(<tf.Tensor: shape=(1,), dtype=float32, numpy=array([0.00952701], dtype=float32)>, <tf.Variable 'Variable:0' shape=(1,) dtype=float32, numpy=array([0.13517313], dtype=float32)>)\n"
          ]
        }
      ]
    },
    {
      "cell_type": "code",
      "source": [
        "tf.math.reduce_all(tf.equal(predictions_init, predictions_test)).numpy()"
      ],
      "metadata": {
        "colab": {
          "base_uri": "https://localhost:8080/"
        },
        "id": "rlA0TGdIsV9o",
        "outputId": "26bd0837-9f91-435c-e6c0-8f37719e6295"
      },
      "execution_count": null,
      "outputs": [
        {
          "output_type": "execute_result",
          "data": {
            "text/plain": [
              "False"
            ]
          },
          "metadata": {},
          "execution_count": 34
        }
      ]
    },
    {
      "cell_type": "code",
      "source": [],
      "metadata": {
        "id": "XgrlOGbBEK0w"
      },
      "execution_count": null,
      "outputs": []
    },
    {
      "cell_type": "code",
      "source": [],
      "metadata": {
        "id": "-unG1u9J1sPJ"
      },
      "execution_count": null,
      "outputs": []
    },
    {
      "cell_type": "code",
      "source": [],
      "metadata": {
        "id": "t4pPFMCJ12_5"
      },
      "execution_count": null,
      "outputs": []
    }
  ]
}