{
  "nbformat": 4,
  "nbformat_minor": 0,
  "metadata": {
    "colab": {
      "provenance": [],
      "authorship_tag": "ABX9TyPLTgv8r7obRQrXGyM8sRAT",
      "include_colab_link": true
    },
    "kernelspec": {
      "name": "python3",
      "display_name": "Python 3"
    },
    "language_info": {
      "name": "python"
    }
  },
  "cells": [
    {
      "cell_type": "markdown",
      "metadata": {
        "id": "view-in-github",
        "colab_type": "text"
      },
      "source": [
        "<a href=\"https://colab.research.google.com/github/dtuleva/DL_23_Lectures_and_Quests/blob/main/DL04_NN_for_Language_Processing.ipynb\" target=\"_parent\"><img src=\"https://colab.research.google.com/assets/colab-badge.svg\" alt=\"Open In Colab\"/></a>"
      ]
    },
    {
      "cell_type": "code",
      "execution_count": 1,
      "metadata": {
        "id": "a5eb7q-HK1IK"
      },
      "outputs": [],
      "source": [
        "import tensorflow as tf"
      ]
    },
    {
      "cell_type": "markdown",
      "source": [
        "# 04.Neural-Networks-for-Language-Processing\n",
        "### from video"
      ],
      "metadata": {
        "id": "cyC0y-iWLdLl"
      }
    },
    {
      "cell_type": "markdown",
      "source": [
        "Resume helper - [open review](https://openreview.net/group?id=NeurIPS.cc)\n",
        "\n",
        "State why NN is needed for the task\n",
        "\n",
        "Knowlage destilation - take huge model and downsize it"
      ],
      "metadata": {
        "id": "lbsEwxHUMc9I"
      }
    },
    {
      "cell_type": "code",
      "source": [],
      "metadata": {
        "id": "KKrlQW4LLcnj"
      },
      "execution_count": null,
      "outputs": []
    }
  ]
}